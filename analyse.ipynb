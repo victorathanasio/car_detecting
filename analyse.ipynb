{
 "cells": [
  {
   "cell_type": "code",
   "execution_count": 12,
   "metadata": {},
   "outputs": [],
   "source": [
    "import pandas as pd\n",
    "\n",
    "vehicles = pd.read_csv('results.csv')"
   ]
  },
  {
   "attachments": {},
   "cell_type": "markdown",
   "metadata": {},
   "source": []
  },
  {
   "cell_type": "code",
   "execution_count": 10,
   "metadata": {},
   "outputs": [
    {
     "data": {
      "text/plain": [
       "139.16028718678186"
      ]
     },
     "execution_count": 10,
     "metadata": {},
     "output_type": "execute_result"
    }
   ],
   "source": [
    "mean_car_lenght = vehicles[vehicles['type'] == 'car'].lenght.mean()\n",
    "mean_car_lenght"
   ]
  },
  {
   "cell_type": "code",
   "execution_count": null,
   "metadata": {},
   "outputs": [],
   "source": []
  },
  {
   "cell_type": "code",
   "execution_count": null,
   "metadata": {},
   "outputs": [],
   "source": []
  },
  {
   "cell_type": "code",
   "execution_count": null,
   "metadata": {},
   "outputs": [],
   "source": []
  },
  {
   "cell_type": "code",
   "execution_count": 6,
   "metadata": {},
   "outputs": [
    {
     "data": {
      "text/html": [
       "<div>\n",
       "<style scoped>\n",
       "    .dataframe tbody tr th:only-of-type {\n",
       "        vertical-align: middle;\n",
       "    }\n",
       "\n",
       "    .dataframe tbody tr th {\n",
       "        vertical-align: top;\n",
       "    }\n",
       "\n",
       "    .dataframe thead th {\n",
       "        text-align: right;\n",
       "    }\n",
       "</style>\n",
       "<table border=\"1\" class=\"dataframe\">\n",
       "  <thead>\n",
       "    <tr style=\"text-align: right;\">\n",
       "      <th></th>\n",
       "      <th>id</th>\n",
       "      <th>type</th>\n",
       "      <th>initial_frame</th>\n",
       "      <th>detection_duration</th>\n",
       "      <th>lenght</th>\n",
       "    </tr>\n",
       "  </thead>\n",
       "  <tbody>\n",
       "    <tr>\n",
       "      <th>8</th>\n",
       "      <td>0</td>\n",
       "      <td>car</td>\n",
       "      <td>1</td>\n",
       "      <td>41</td>\n",
       "      <td>117.513428</td>\n",
       "    </tr>\n",
       "    <tr>\n",
       "      <th>5</th>\n",
       "      <td>1</td>\n",
       "      <td>truck</td>\n",
       "      <td>2</td>\n",
       "      <td>6</td>\n",
       "      <td>179.725708</td>\n",
       "    </tr>\n",
       "    <tr>\n",
       "      <th>4</th>\n",
       "      <td>2</td>\n",
       "      <td>truck</td>\n",
       "      <td>3</td>\n",
       "      <td>1</td>\n",
       "      <td>266.224365</td>\n",
       "    </tr>\n",
       "    <tr>\n",
       "      <th>9</th>\n",
       "      <td>3</td>\n",
       "      <td>car</td>\n",
       "      <td>23</td>\n",
       "      <td>21</td>\n",
       "      <td>159.738953</td>\n",
       "    </tr>\n",
       "    <tr>\n",
       "      <th>7</th>\n",
       "      <td>4</td>\n",
       "      <td>car</td>\n",
       "      <td>23</td>\n",
       "      <td>14</td>\n",
       "      <td>77.170410</td>\n",
       "    </tr>\n",
       "    <tr>\n",
       "      <th>...</th>\n",
       "      <td>...</td>\n",
       "      <td>...</td>\n",
       "      <td>...</td>\n",
       "      <td>...</td>\n",
       "      <td>...</td>\n",
       "    </tr>\n",
       "    <tr>\n",
       "      <th>5549</th>\n",
       "      <td>5547</td>\n",
       "      <td>truck</td>\n",
       "      <td>107881</td>\n",
       "      <td>2</td>\n",
       "      <td>277.025146</td>\n",
       "    </tr>\n",
       "    <tr>\n",
       "      <th>0</th>\n",
       "      <td>5548</td>\n",
       "      <td>car</td>\n",
       "      <td>107886</td>\n",
       "      <td>55</td>\n",
       "      <td>160.567810</td>\n",
       "    </tr>\n",
       "    <tr>\n",
       "      <th>1</th>\n",
       "      <td>5549</td>\n",
       "      <td>car</td>\n",
       "      <td>107890</td>\n",
       "      <td>50</td>\n",
       "      <td>112.500366</td>\n",
       "    </tr>\n",
       "    <tr>\n",
       "      <th>2</th>\n",
       "      <td>5550</td>\n",
       "      <td>car</td>\n",
       "      <td>107919</td>\n",
       "      <td>11</td>\n",
       "      <td>180.122818</td>\n",
       "    </tr>\n",
       "    <tr>\n",
       "      <th>3</th>\n",
       "      <td>5551</td>\n",
       "      <td>car</td>\n",
       "      <td>107928</td>\n",
       "      <td>13</td>\n",
       "      <td>90.989380</td>\n",
       "    </tr>\n",
       "  </tbody>\n",
       "</table>\n",
       "<p>5552 rows × 5 columns</p>\n",
       "</div>"
      ],
      "text/plain": [
       "        id   type initial_frame detection_duration      lenght\n",
       "8        0    car             1                 41  117.513428\n",
       "5        1  truck             2                  6  179.725708\n",
       "4        2  truck             3                  1  266.224365\n",
       "9        3    car            23                 21  159.738953\n",
       "7        4    car            23                 14   77.170410\n",
       "...    ...    ...           ...                ...         ...\n",
       "5549  5547  truck        107881                  2  277.025146\n",
       "0     5548    car        107886                 55  160.567810\n",
       "1     5549    car        107890                 50  112.500366\n",
       "2     5550    car        107919                 11  180.122818\n",
       "3     5551    car        107928                 13   90.989380\n",
       "\n",
       "[5552 rows x 5 columns]"
      ]
     },
     "execution_count": 6,
     "metadata": {},
     "output_type": "execute_result"
    }
   ],
   "source": [
    "import pandas as pd\n",
    "\n",
    "trackers_objs = sort_tracker.trackers + sort_tracker.deleted_trackers\n",
    "\n",
    "df = pd.DataFrame(columns=['id', 'type', 'initial_frame', 'detection_duration', 'lenght'])\n",
    "\n",
    "for track in trackers_objs:\n",
    "    df2 = pd.DataFrame({\n",
    "        'id': track.id,\n",
    "        'type': track.detclass_name,\n",
    "        'initial_frame': track.initial_frame,\n",
    "        'detection_duration': len(track.centroidarr),\n",
    "        'detection_path': str(track.centroidarr),\n",
    "        'lenght': track.length}, index=[0])\n",
    "    \n",
    "    df = pd.concat([df, df2], ignore_index=True)\n",
    "\n",
    "df = df.sort_values(by=['id', 'initial_frame'])\n",
    "df.to_csv('results_full.csv', index=False) \n",
    "df      "
   ]
  },
  {
   "cell_type": "code",
   "execution_count": null,
   "metadata": {},
   "outputs": [],
   "source": []
  },
  {
   "cell_type": "code",
   "execution_count": null,
   "metadata": {},
   "outputs": [],
   "source": []
  },
  {
   "cell_type": "code",
   "execution_count": null,
   "metadata": {},
   "outputs": [],
   "source": []
  },
  {
   "cell_type": "code",
   "execution_count": null,
   "metadata": {},
   "outputs": [],
   "source": []
  }
 ],
 "metadata": {
  "kernelspec": {
   "display_name": ".venv",
   "language": "python",
   "name": "python3"
  },
  "language_info": {
   "codemirror_mode": {
    "name": "ipython",
    "version": 3
   },
   "file_extension": ".py",
   "mimetype": "text/x-python",
   "name": "python",
   "nbconvert_exporter": "python",
   "pygments_lexer": "ipython3",
   "version": "3.9.6"
  },
  "orig_nbformat": 4,
  "vscode": {
   "interpreter": {
    "hash": "60d356ab704151085a5fff9eff36ff25591a413e49f3132be27d057e79558fe2"
   }
  }
 },
 "nbformat": 4,
 "nbformat_minor": 2
}
